{
 "cells": [
  {
   "cell_type": "code",
   "execution_count": 1,
   "metadata": {},
   "outputs": [],
   "source": [
    "import pandas as pd\n",
    "import glob\n",
    "import datetime"
   ]
  },
  {
   "cell_type": "code",
   "execution_count": 69,
   "metadata": {},
   "outputs": [],
   "source": [
    "filesPathRR   = glob.glob('../Time Series/*.csv')\n",
    "filesPathGame = glob.glob('../Time Series/GameData Tests/*.csv')\n",
    "filesPath     = glob.glob('../Time Series/Data/*.csv')"
   ]
  },
  {
   "cell_type": "code",
   "execution_count": 71,
   "metadata": {},
   "outputs": [],
   "source": [
    "for path in filesPathGame:\n",
    "    q = pd.read_csv(path, parse_dates = ['Time'])\n",
    "    q['Time'] = q.Time.dt.round('1ms')\n",
    "    q.to_csv(path, index = None)"
   ]
  },
  {
   "cell_type": "code",
   "execution_count": 76,
   "metadata": {
    "scrolled": true
   },
   "outputs": [
    {
     "name": "stdout",
     "output_type": "stream",
     "text": [
      "6/6\r"
     ]
    }
   ],
   "source": [
    "for i in range(len(filesPath)):\n",
    "    print(f'{i+1}/{len(filesPath)}', end='\\r')\n",
    "    pathRR   = filesPathRR[i]\n",
    "    pathGame = filesPathGame[i] \n",
    "    path     = filesPath[i]\n",
    "\n",
    "    q = pd.read_csv(pathRR, parse_dates = ['Time'])\n",
    "    r = pd.read_csv(pathGame, parse_dates = ['Time'])\n",
    "    t = q.merge(r, left_on = ['Time'], right_on = ['Time'], how = 'left')\n",
    "    \n",
    "    numericColumns = t.select_dtypes(float).columns\n",
    "    \n",
    "    t = t[t.index >= t[numericColumns[0]].first_valid_index()].reset_index(drop = True)\n",
    "    t = t[t.index <= t[numericColumns[0]].last_valid_index()].reset_index(drop = True)\n",
    "\n",
    "    t[numericColumns] = t[numericColumns].interpolate(method = 'linear').round(0)\n",
    "    t = t.ffill()\n",
    "\n",
    "    t.to_csv(path, index = None)"
   ]
  },
  {
   "cell_type": "code",
   "execution_count": 94,
   "metadata": {},
   "outputs": [
    {
     "name": "stdout",
     "output_type": "stream",
     "text": [
      "../Time Series/Data\\1.csv: 2019-11-06 10:27:23.153000\n",
      "../Time Series/Data\\2.csv: 2019-11-06 11:29:22.085000\n",
      "../Time Series/Data\\3.csv: 2019-11-07 10:27:26.706000\n",
      "../Time Series/Data\\4.csv: 2019-11-07 10:14:56.361000\n",
      "../Time Series/Data\\5.csv: 2019-11-08 10:44:07.092000\n",
      "../Time Series/Data\\6.csv: 2019-11-08 10:58:02.688000\n"
     ]
    }
   ],
   "source": [
    "#for file in filesPath:\n",
    "    #print(f\"{file}: {pd.read_csv(file, parse_dates = ['Time']).loc[0, 'Time']}\")"
   ]
  },
  {
   "cell_type": "code",
   "execution_count": 83,
   "metadata": {},
   "outputs": [],
   "source": [
    "#q = pd.read_csv(file, parse_dates = ['Time']).loc[0, 'Time']"
   ]
  },
  {
   "cell_type": "code",
   "execution_count": 90,
   "metadata": {},
   "outputs": [],
   "source": [
    "#hours = [0, 0, 13, 13, 38, 38]"
   ]
  },
  {
   "cell_type": "code",
   "execution_count": 93,
   "metadata": {},
   "outputs": [],
   "source": [
    "#for i in range(len(filesPath)):\n",
    "    #path = filesPath[i]\n",
    "    #hour = hours[i]\n",
    "    #q = pd.read_csv(path, parse_dates = ['Time'])\n",
    "    #q['Time'] = q.Time + datetime.timedelta(hours = hour)\n",
    "    #q.to_csv(path, index = None)"
   ]
  }
 ],
 "metadata": {
  "kernelspec": {
   "display_name": "Python 3",
   "language": "python",
   "name": "python3"
  },
  "language_info": {
   "codemirror_mode": {
    "name": "ipython",
    "version": 3
   },
   "file_extension": ".py",
   "mimetype": "text/x-python",
   "name": "python",
   "nbconvert_exporter": "python",
   "pygments_lexer": "ipython3",
   "version": "3.8.5"
  }
 },
 "nbformat": 4,
 "nbformat_minor": 2
}
