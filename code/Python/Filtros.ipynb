{
 "cells": [
  {
   "cell_type": "code",
   "execution_count": null,
   "metadata": {},
   "outputs": [],
   "source": [
    "#pip install pyhrv"
   ]
  },
  {
   "cell_type": "code",
   "execution_count": null,
   "metadata": {},
   "outputs": [],
   "source": [
    "#   This filter is able to detect\n",
    "# the principal artifacts encountered in such recording and to\n",
    "# rebuild the R-R series by computing the most probable\n",
    "# samples while keeping the real recording time"
   ]
  },
  {
   "cell_type": "code",
   "execution_count": 1,
   "metadata": {},
   "outputs": [],
   "source": [
    "import pandas as pd"
   ]
  },
  {
   "cell_type": "code",
   "execution_count": 2,
   "metadata": {},
   "outputs": [],
   "source": [
    "# Tipo 1: Missing\n",
    "# R2 = 2RR1\n",
    "\n",
    "# Tipo 2: Wrong detection\n",
    "# RR1 = RR2 + RR3 (os dois seguintes são a soma do anterior correto)\n",
    "\n",
    "# Tipo 3: Ectopic Beat\n",
    "# 2RR1 = RR2 + RR3"
   ]
  },
  {
   "cell_type": "code",
   "execution_count": 3,
   "metadata": {},
   "outputs": [],
   "source": [
    "def detection(df, wSize = 20):\n",
    "    windowSize = wSize\n",
    "    i = 1\n",
    "    while True:\n",
    "        bottomBound = i - 1\n",
    "        upperBound  = windowSize + (i - 1)\n",
    "        samplesWindow = df.iloc[bottomBound:upperBound]\n",
    "        samplesWindow = samplesWindow[samplesWindow.Mark != 0]\n",
    "        mean = samplesWindow.RR.mean()\n",
    "        std  = samplesWindow.RR.std()\n",
    "\n",
    "        bottomThreshold = mean - 2 * std\n",
    "        upperThreshold  = mean + 2 * std\n",
    "\n",
    "        for j in range(0, windowSize):\n",
    "            RRi  = df.iloc[bottomBound + j].RR\n",
    "            RR_1 = df.iloc[bottomBound + j - 1].RR\n",
    "            RR1  = df.iloc[bottomBound + j + 1].RR\n",
    "\n",
    "            if ((RRi >= bottomThreshold) and (RRi <= upperThreshold)):\n",
    "                df['Mark'][bottomBound + j] = 1\n",
    "            else:\n",
    "                if ((RRi < bottomThreshold) and (RR1 > upperThreshold)):\n",
    "                    df['Mark'][bottomBound + j] = 0\n",
    "                elif ((RRi < 0.75 * RR_1) or (RR1 < 0.75 * RR_1)):\n",
    "                    df['Mark'][bottomBound + j] = 0\n",
    "                elif ((RRi > 1.75 * RR_1)):\n",
    "                    df['Mark'][bottomBound + j] = 0\n",
    "\n",
    "        firstUndefinedIndex = -1\n",
    "        for j in range(0, windowSize):\n",
    "            iMark  = df.iloc[bottomBound + j].Mark\n",
    "            if (iMark == -1):\n",
    "                firstUndefinedIndex = j\n",
    "            else:\n",
    "                if (firstUndefinedIndex != -1):\n",
    "                    for k in range(firstUndefinedIndex, j):\n",
    "                        df['Mark'][firstUndefinedIndex + k] = iMark\n",
    "                    firstUndefinedIndex = -1\n",
    "\n",
    "        i = i + 1\n",
    "\n",
    "        if (windowSize != wSize):\n",
    "            break\n",
    "            \n",
    "        if (upperBound > df.shape[0] - windowSize):\n",
    "            windowSize = df.shape[0] - upperBound\n",
    "            \n",
    "    return df"
   ]
  },
  {
   "cell_type": "code",
   "execution_count": 4,
   "metadata": {},
   "outputs": [],
   "source": [
    "def rebuild(df, start, end):\n",
    "    s = -1\n",
    "    f = -1\n",
    "    for i in range(start, end):\n",
    "        iMark = df.iloc[i].Mark\n",
    "        if (iMark == 0):\n",
    "            if (s != -1):\n",
    "                s = i\n",
    "            else:\n",
    "                f = i"
   ]
  },
  {
   "cell_type": "code",
   "execution_count": 5,
   "metadata": {},
   "outputs": [],
   "source": [
    "P = [\n",
    "    [r'C:\\Users\\LucasMarquesGasparin\\Desktop\\Learning\\TCC\\ParticipanteA x ParticipanteB\\Multi\\ParticipanteA_RR.csv',           350, '2019-11-06 11:15:22.809561',          r'C:\\Users\\LucasMarquesGasparin\\Desktop\\Learning\\TCC\\ParticipanteA x ParticipanteB\\Multi\\ParticipanteA_HR.csv'],\n",
    "    [r'C:\\Users\\LucasMarquesGasparin\\Desktop\\Learning\\TCC\\ParticipanteA x ParticipanteB\\Multi\\ParticipanteB_RR.csv',           50, '2019-11-06 11:15:22.809561',          r'C:\\Users\\LucasMarquesGasparin\\Desktop\\Learning\\TCC\\ParticipanteA x ParticipanteB\\Multi\\ParticipanteB_HR.csv'],\n",
    "    [r'C:\\Users\\LucasMarquesGasparin\\Desktop\\Learning\\TCC\\ParticipanteA x ParticipanteB\\Multi\\sound\\ParticipanteA_RR.csv',  350, '2019-11-06 10:41:41.372607',          r'C:\\Users\\LucasMarquesGasparin\\Desktop\\Learning\\TCC\\ParticipanteA x ParticipanteB\\Multi\\sound\\ParticipanteA_HR.csv'],\n",
    "    [r'C:\\Users\\LucasMarquesGasparin\\Desktop\\Learning\\TCC\\ParticipanteA x ParticipanteB\\Multi\\sound\\ParticipanteB_RR.csv',  50, '2019-11-06 10:41:41.372607',          r'C:\\Users\\LucasMarquesGasparin\\Desktop\\Learning\\TCC\\ParticipanteA x ParticipanteB\\Multi\\sound\\ParticipanteB_HR.csv'],\n",
    "    [r'C:\\Users\\LucasMarquesGasparin\\Desktop\\Learning\\TCC\\ParticipanteA x ParticipanteB\\ParticipanteA\\ParticipanteA_RR.csv',              350, '2019-11-06 11:37:38.271140',          r'C:\\Users\\LucasMarquesGasparin\\Desktop\\Learning\\TCC\\ParticipanteA x ParticipanteB\\ParticipanteA\\ParticipanteA_HR.csv'],\n",
    "    [r'C:\\Users\\LucasMarquesGasparin\\Desktop\\Learning\\TCC\\ParticipanteA x ParticipanteB\\ParticipanteB\\ParticipanteB_RR.csv',             50, '2019-11-06 11:37:38.271140',          r'C:\\Users\\LucasMarquesGasparin\\Desktop\\Learning\\TCC\\ParticipanteA x ParticipanteB\\ParticipanteB\\ParticipanteB_HR.csv'],\n",
    "\n",
    "    \n",
    "    [r'C:\\Users\\LucasMarquesGasparin\\Desktop\\Learning\\TCC\\ParticipanteC x ParticipanteD\\Multi\\ParticipanteC_RR.csv',           350, '2019-11-06 11:36:43.641214',          r'C:\\Users\\LucasMarquesGasparin\\Desktop\\Learning\\TCC\\ParticipanteC x Pai\\Multi\\ParticipanteC_HR.csv'],\n",
    "    [r'C:\\Users\\LucasMarquesGasparin\\Desktop\\Learning\\TCC\\ParticipanteC x ParticipanteD\\Multi\\ParticipanteD_RR.csv',           50, '2019-11-06 11:36:43.641214',          r'C:\\Users\\LucasMarquesGasparin\\Desktop\\Learning\\TCC\\ParticipanteC x Pai\\Multi\\Pai_HR.csv'],\n",
    "    [r'C:\\Users\\LucasMarquesGasparin\\Desktop\\Learning\\TCC\\ParticipanteC x ParticipanteD\\ParticipanteC\\ParticipanteC_RR.csv',              350, '2019-11-06 11:24:05.014367',          r'C:\\Users\\LucasMarquesGasparin\\Desktop\\Learning\\TCC\\ParticipanteC x ParticipanteD\\ParticipanteC\\ParticipanteC_HR.csv'],\n",
    "    [r'C:\\Users\\LucasMarquesGasparin\\Desktop\\Learning\\TCC\\ParticipanteC x ParticipanteD\\ParticipanteD\\ParticipanteD_RR.csv',             50, '2019-11-06 11:24:05.014367',          r'C:\\Users\\LucasMarquesGasparin\\Desktop\\Learning\\TCC\\ParticipanteC x ParticipanteD\\ParticipanteD\\ParticipanteD_HR.csv'],\n",
    "    \n",
    "    [r'C:\\Users\\LucasMarquesGasparin\\Desktop\\Learning\\TCC\\ParticipanteE x ParticipanteF\\Multi\\ParticipanteE_RR.csv',          50, '2019-11-06 12:53:24.837839‬',          r'C:\\Users\\LucasMarquesGasparin\\Desktop\\Learning\\TCC\\ParticipanteE x ParticipanteF\\Multi\\ParticipanteE_HR.csv'],\n",
    "    [r'C:\\Users\\LucasMarquesGasparin\\Desktop\\Learning\\TCC\\ParticipanteE x ParticipanteF\\Multi\\ParticipanteF_RR.csv',         350, '2019-11-06 12:53:24.837839‬',          r'C:\\Users\\LucasMarquesGasparin\\Desktop\\Learning\\TCC\\ParticipanteE x ParticipanteF\\Multi\\ParticipanteF_HR.csv'],\n",
    "    \n",
    "    [r'C:\\Users\\LucasMarquesGasparin\\Desktop\\Learning\\TCC\\ParticipanteE x ParticipanteF\\ParticipanteE\\ParticipanteE_RR.csv',            50, '2019-11-06 12:06:58.992994',          r'C:\\Users\\LucasMarquesGasparin\\Desktop\\Learning\\TCC\\ParticipanteE x ParticipanteF\\ParticipanteE\\ParticipanteE_HR.csv'],\n",
    "    [r'C:\\Users\\LucasMarquesGasparin\\Desktop\\Learning\\TCC\\ParticipanteE x ParticipanteF\\ParticipanteF\\ParticipanteF_RR.csv',           350, '2019-11-06 12:06:58.992994',          r'C:\\Users\\LucasMarquesGasparin\\Desktop\\Learning\\TCC\\ParticipanteE x ParticipanteF\\ParticipanteF\\ParticipanteF_HR.csv']\n",
    "    \n",
    "]"
   ]
  },
  {
   "cell_type": "code",
   "execution_count": 10,
   "metadata": {},
   "outputs": [
    {
     "name": "stdout",
     "output_type": "stream",
     "text": [
      "'C:\\Users\\LucasMarquesGasparin\\Desktop\\Learning\\TCC\\ParticipanteA x ParticipanteB\\Multi\\ParticipanteA_RR.csv', \n",
      "'C:\\Users\\LucasMarquesGasparin\\Desktop\\Learning\\TCC\\ParticipanteA x ParticipanteB\\Multi\\ParticipanteB_RR.csv', \n",
      "'C:\\Users\\LucasMarquesGasparin\\Desktop\\Learning\\TCC\\ParticipanteA x ParticipanteB\\Multi\\sound\\ParticipanteA_RR.csv', \n",
      "'C:\\Users\\LucasMarquesGasparin\\Desktop\\Learning\\TCC\\ParticipanteA x ParticipanteB\\Multi\\sound\\ParticipanteB_RR.csv', \n",
      "'C:\\Users\\LucasMarquesGasparin\\Desktop\\Learning\\TCC\\ParticipanteA x ParticipanteB\\ParticipanteA\\ParticipanteA_RR.csv', \n",
      "'C:\\Users\\LucasMarquesGasparin\\Desktop\\Learning\\TCC\\ParticipanteA x ParticipanteB\\ParticipanteB\\ParticipanteB_RR.csv', \n",
      "'C:\\Users\\LucasMarquesGasparin\\Desktop\\Learning\\TCC\\ParticipanteC x ParticipanteD\\Multi\\ParticipanteC_RR.csv', \n",
      "'C:\\Users\\LucasMarquesGasparin\\Desktop\\Learning\\TCC\\ParticipanteC x ParticipanteD\\Multi\\ParticipanteD_RR.csv', \n",
      "'C:\\Users\\LucasMarquesGasparin\\Desktop\\Learning\\TCC\\ParticipanteC x ParticipanteD\\ParticipanteC\\ParticipanteC_RR.csv', \n",
      "'C:\\Users\\LucasMarquesGasparin\\Desktop\\Learning\\TCC\\ParticipanteC x ParticipanteD\\ParticipanteD\\ParticipanteD_RR.csv', \n",
      "'C:\\Users\\LucasMarquesGasparin\\Desktop\\Learning\\TCC\\ParticipanteE x ParticipanteF\\Multi\\ParticipanteE_RR.csv', \n",
      "'C:\\Users\\LucasMarquesGasparin\\Desktop\\Learning\\TCC\\ParticipanteE x ParticipanteF\\Multi\\ParticipanteF_RR.csv', \n",
      "'C:\\Users\\LucasMarquesGasparin\\Desktop\\Learning\\TCC\\ParticipanteE x ParticipanteF\\ParticipanteE\\ParticipanteE_RR.csv', \n",
      "'C:\\Users\\LucasMarquesGasparin\\Desktop\\Learning\\TCC\\ParticipanteE x ParticipanteF\\ParticipanteF\\ParticipanteF_RR.csv', \n"
     ]
    }
   ],
   "source": [
    "for i in range(14):\n",
    "    print(f\"'{P[i][0]}', \")"
   ]
  },
  {
   "cell_type": "code",
   "execution_count": 7,
   "metadata": {},
   "outputs": [
    {
     "name": "stderr",
     "output_type": "stream",
     "text": [
      "C:\\Users\\LucasMarquesGasparin\\AppData\\Local\\Continuum\\anaconda3\\envs\\TCC\\lib\\site-packages\\ipykernel_launcher.py:21: SettingWithCopyWarning: \n",
      "A value is trying to be set on a copy of a slice from a DataFrame\n",
      "\n",
      "See the caveats in the documentation: http://pandas.pydata.org/pandas-docs/stable/user_guide/indexing.html#returning-a-view-versus-a-copy\n",
      "C:\\Users\\LucasMarquesGasparin\\AppData\\Local\\Continuum\\anaconda3\\envs\\TCC\\lib\\site-packages\\ipykernel_launcher.py:38: SettingWithCopyWarning: \n",
      "A value is trying to be set on a copy of a slice from a DataFrame\n",
      "\n",
      "See the caveats in the documentation: http://pandas.pydata.org/pandas-docs/stable/user_guide/indexing.html#returning-a-view-versus-a-copy\n"
     ]
    },
    {
     "name": "stdout",
     "output_type": "stream",
     "text": [
      "C:\\Users\\LucasMarquesGasparin\\Desktop\\Learning\\TCC\\ParticipanteA x ParticipanteB\\Multi\\ParticipanteA_RR.csv\n",
      "Empty DataFrame\n",
      "Columns: [Time, RR, Mark]\n",
      "Index: []\n",
      "C:\\Users\\LucasMarquesGasparin\\Desktop\\Learning\\TCC\\ParticipanteA x ParticipanteB\\Multi\\ParticipanteB_RR.csv\n",
      "Empty DataFrame\n",
      "Columns: [Time, RR, Mark]\n",
      "Index: []\n",
      "C:\\Users\\LucasMarquesGasparin\\Desktop\\Learning\\TCC\\ParticipanteA x ParticipanteB\\Multi\\sound\\ParticipanteA_RR.csv\n",
      "Empty DataFrame\n",
      "Columns: [Time, RR, Mark]\n",
      "Index: []\n",
      "C:\\Users\\LucasMarquesGasparin\\Desktop\\Learning\\TCC\\ParticipanteA x ParticipanteB\\Multi\\sound\\ParticipanteB_RR.csv\n",
      "Empty DataFrame\n",
      "Columns: [Time, RR, Mark]\n",
      "Index: []\n",
      "C:\\Users\\LucasMarquesGasparin\\Desktop\\Learning\\TCC\\ParticipanteA x ParticipanteB\\ParticipanteA\\ParticipanteA_RR.csv\n",
      "Empty DataFrame\n",
      "Columns: [Time, RR, Mark]\n",
      "Index: []\n",
      "C:\\Users\\LucasMarquesGasparin\\Desktop\\Learning\\TCC\\ParticipanteA x ParticipanteB\\ParticipanteB\\ParticipanteB_RR.csv\n",
      "Empty DataFrame\n",
      "Columns: [Time, RR, Mark]\n",
      "Index: []\n",
      "C:\\Users\\LucasMarquesGasparin\\Desktop\\Learning\\TCC\\ParticipanteC x ParticipanteD\\Multi\\ParticipanteC_RR.csv\n",
      "Empty DataFrame\n",
      "Columns: [Time, RR, Mark]\n",
      "Index: []\n",
      "C:\\Users\\LucasMarquesGasparin\\Desktop\\Learning\\TCC\\ParticipanteC x ParticipanteD\\Multi\\ParticipanteD_RR.csv\n",
      "Empty DataFrame\n",
      "Columns: [Time, RR, Mark]\n",
      "Index: []\n",
      "C:\\Users\\LucasMarquesGasparin\\Desktop\\Learning\\TCC\\ParticipanteC x ParticipanteD\\ParticipanteC\\ParticipanteC_RR.csv\n",
      "Empty DataFrame\n",
      "Columns: [Time, RR, Mark]\n",
      "Index: []\n",
      "C:\\Users\\LucasMarquesGasparin\\Desktop\\Learning\\TCC\\ParticipanteC x ParticipanteD\\ParticipanteD\\ParticipanteD_RR.csv\n",
      "Empty DataFrame\n",
      "Columns: [Time, RR, Mark]\n",
      "Index: []\n",
      "C:\\Users\\LucasMarquesGasparin\\Desktop\\Learning\\TCC\\ParticipanteE x ParticipanteF\\Multi\\ParticipanteE_RR.csv\n",
      "Empty DataFrame\n",
      "Columns: [Time, RR, Mark]\n",
      "Index: []\n",
      "C:\\Users\\LucasMarquesGasparin\\Desktop\\Learning\\TCC\\ParticipanteE x ParticipanteF\\Multi\\ParticipanteF_RR.csv\n",
      "Empty DataFrame\n",
      "Columns: [Time, RR, Mark]\n",
      "Index: []\n",
      "C:\\Users\\LucasMarquesGasparin\\Desktop\\Learning\\TCC\\ParticipanteE x ParticipanteF\\ParticipanteE\\ParticipanteE_RR.csv\n",
      "Empty DataFrame\n",
      "Columns: [Time, RR, Mark]\n",
      "Index: []\n",
      "C:\\Users\\LucasMarquesGasparin\\Desktop\\Learning\\TCC\\ParticipanteE x ParticipanteF\\ParticipanteF\\ParticipanteF_RR.csv\n",
      "Empty DataFrame\n",
      "Columns: [Time, RR, Mark]\n",
      "Index: []\n"
     ]
    }
   ],
   "source": [
    "for i in range(14):\n",
    "    df = pd.read_csv(P[i][0])\n",
    "    df['RR'] = df['RR Interval [ms]']\n",
    "    df.drop(['RR Interval [ms]'], axis = 1, inplace = True)\n",
    "    df['Mark'] = - 1\n",
    "\n",
    "    #Mark\n",
    "    # -1 -> Undefined\n",
    "    # 0 -> Wrong\n",
    "    # 1 -> Corret\n",
    "    \n",
    "    df = detection(df, wSize = 12)\n",
    "    print(P[i][0])\n",
    "    print(df[df.Mark == 0])"
   ]
  },
  {
   "cell_type": "code",
   "execution_count": null,
   "metadata": {},
   "outputs": [],
   "source": []
  }
 ],
 "metadata": {
  "kernelspec": {
   "display_name": "Python 3",
   "language": "python",
   "name": "python3"
  },
  "language_info": {
   "codemirror_mode": {
    "name": "ipython",
    "version": 3
   },
   "file_extension": ".py",
   "mimetype": "text/x-python",
   "name": "python",
   "nbconvert_exporter": "python",
   "pygments_lexer": "ipython3",
   "version": "3.8.5"
  }
 },
 "nbformat": 4,
 "nbformat_minor": 2
}