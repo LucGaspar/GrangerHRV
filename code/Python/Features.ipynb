{
 "cells": [
  {
   "cell_type": "code",
   "execution_count": 1,
   "metadata": {},
   "outputs": [],
   "source": [
    "import pandas as pd\n",
    "import datetime"
   ]
  },
  {
   "cell_type": "code",
   "execution_count": 2,
   "metadata": {},
   "outputs": [],
   "source": [
    "P = [\n",
    "    [r'C:\\Users\\LucasMarquesGasparin\\Desktop\\Learning\\TCC\\ParticipanteA x ParticipanteB\\Multi\\ParticipanteA_RR.csv',           350, '2019-11-06 11:15:22.809561',          r'C:\\Users\\LucasMarquesGasparin\\Desktop\\Learning\\TCC\\ParticipanteA x ParticipanteB\\Multi\\ParticipanteA_HR.csv'],\n",
    "    [r'C:\\Users\\LucasMarquesGasparin\\Desktop\\Learning\\TCC\\ParticipanteA x ParticipanteB\\Multi\\ParticipanteB_RR.csv',           50, '2019-11-06 11:15:22.809561',          r'C:\\Users\\LucasMarquesGasparin\\Desktop\\Learning\\TCC\\ParticipanteA x ParticipanteB\\Multi\\ParticipanteB_HR.csv'],\n",
    "    [r'C:\\Users\\LucasMarquesGasparin\\Desktop\\Learning\\TCC\\ParticipanteA x ParticipanteB\\Multi\\sound\\ParticipanteA_RR.csv',  350, '2019-11-06 10:41:41.372607',          r'C:\\Users\\LucasMarquesGasparin\\DesktopLearning\\\\TCC\\ParticipanteA x ParticipanteB\\Multi\\sound\\ParticipanteA_HR.csv'],\n",
    "    [r'C:\\Users\\LucasMarquesGasparin\\Desktop\\Learning\\TCC\\ParticipanteA x ParticipanteB\\Multi\\sound\\ParticipanteB_RR.csv',  50, '2019-11-06 10:41:41.372607',          r'C:\\Users\\LucasMarquesGasparin\\Desktop\\Learning\\TCC\\ParticipanteA x ParticipanteB\\Multi\\sound\\ParticipanteB_HR.csv'],\n",
    "    [r'C:\\Users\\LucasMarquesGasparin\\Desktop\\Learning\\TCC\\ParticipanteA x ParticipanteB\\ParticipanteA\\ParticipanteA_RR.csv',              350, '2019-11-06 11:37:38.271140',          r'C:\\Users\\LucasMarquesGasparin\\Desktop\\Learning\\TCC\\ParticipanteA x ParticipanteB\\ParticipanteA\\ParticipanteA_HR.csv'],\n",
    "    [r'C:\\Users\\LucasMarquesGasparin\\Desktop\\Learning\\TCC\\ParticipanteA x ParticipanteB\\ParticipanteB\\ParticipanteB_RR.csv',             50, '2019-11-06 11:37:38.271140',          r'C:\\Users\\LucasMarquesGasparin\\Desktop\\Learning\\TCC\\ParticipanteA x ParticipanteB\\ParticipanteB\\ParticipanteB_HR.csv'],\n",
    "\n",
    "    \n",
    "    [r'C:\\Users\\LucasMarquesGasparin\\Desktop\\Learning\\TCC\\ParticipanteC x ParticipanteD\\Multi\\ParticipanteC_RR.csv',           350, '2019-11-06 11:36:43.641214',          r'C:\\Users\\LucasMarquesGasparin\\Desktop\\Learning\\TCC\\ParticipanteC x Pai\\Multi\\ParticipanteC_HR.csv'],\n",
    "    [r'C:\\Users\\LucasMarquesGasparin\\Desktop\\Learning\\TCC\\ParticipanteC x ParticipanteD\\Multi\\ParticipanteD_RR.csv',           50, '2019-11-06 11:36:43.641214',          r'C:\\Users\\LucasMarquesGasparin\\Desktop\\Learning\\TCC\\ParticipanteC x Pai\\Multi\\Pai_HR.csv'],\n",
    "    [r'C:\\Users\\LucasMarquesGasparin\\Desktop\\Learning\\TCC\\ParticipanteC x ParticipanteD\\ParticipanteC\\ParticipanteC_RR.csv',              350, '2019-11-06 11:24:05.014367',          r'C:\\Users\\LucasMarquesGasparin\\Desktop\\Learning\\TCC\\ParticipanteC x ParticipanteD\\ParticipanteC\\ParticipanteC_HR.csv'],\n",
    "    [r'C:\\Users\\LucasMarquesGasparin\\Desktop\\Learning\\TCC\\ParticipanteC x ParticipanteD\\ParticipanteD\\ParticipanteD_RR.csv',             50, '2019-11-06 11:24:05.014367',          r'C:\\Users\\LucasMarquesGasparin\\Desktop\\Learning\\TCC\\ParticipanteC x ParticipanteD\\ParticipanteD\\ParticipanteD_HR.csv'],\n",
    "    \n",
    "    [r'C:\\Users\\LucasMarquesGasparin\\Desktop\\Learning\\TCC\\ParticipanteE x ParticipanteF\\Multi\\ParticipanteE_RR.csv',          50, '2019-11-06 12:53:24.837839‬',          r'C:\\Users\\LucasMarquesGasparin\\Desktop\\Learning\\TCC\\ParticipanteE x ParticipanteF\\Multi\\ParticipanteE_HR.csv'],\n",
    "    [r'C:\\Users\\LucasMarquesGasparin\\Desktop\\Learning\\TCC\\ParticipanteE x ParticipanteF\\Multi\\ParticipanteF_RR.csv',         350, '2019-11-06 12:53:24.837839‬',          r'C:\\Users\\LucasMarquesGasparin\\Desktop\\Learning\\TCC\\ParticipanteE x ParticipanteF\\Multi\\ParticipanteF_HR.csv'],\n",
    "    \n",
    "    [r'C:\\Users\\LucasMarquesGasparin\\Desktop\\Learning\\TCC\\ParticipanteE x ParticipanteF\\ParticipanteE\\ParticipanteE_RR.csv',            50, '2019-11-06 12:06:58.992994',          r'C:\\Users\\LucasMarquesGasparin\\Desktop\\Learning\\TCC\\ParticipanteE x ParticipanteF\\ParticipanteE\\ParticipanteE_HR.csv'],\n",
    "    [r'C:\\Users\\LucasMarquesGasparin\\Desktop\\Learning\\TCC\\ParticipanteE x ParticipanteF\\ParticipanteF\\ParticipanteF_RR.csv',           350, '2019-11-06 12:06:58.992994',          r'C:\\Users\\LucasMarquesGasparin\\Desktop\\Learning\\TCC\\ParticipanteE x ParticipanteF\\ParticipanteF\\ParticipanteF_HR.csv']\n",
    "    \n",
    "]\n",
    "\n",
    "\n",
    "Q = ['A x B-Multi.csv',\n",
    "    'A x B-Multi-cachorro.csv',\n",
    "    'A x B-Sing.csv',\n",
    "    'C x D-Multi.csv',\n",
    "    'C x D-Sing.csv',\n",
    "    'C x D-Multi.csv',\n",
    "    'C x D-Sing.csv'\n",
    "    ]"
   ]
  },
  {
   "cell_type": "code",
   "execution_count": 3,
   "metadata": {},
   "outputs": [],
   "source": [
    "files_rr = []\n",
    "\n",
    "for i in range(14):\n",
    "    files_rr.append(P[i][0])"
   ]
  },
  {
   "cell_type": "code",
   "execution_count": 4,
   "metadata": {},
   "outputs": [],
   "source": [
    "files_rr = pd.Series(files_rr)"
   ]
  },
  {
   "cell_type": "code",
   "execution_count": 5,
   "metadata": {},
   "outputs": [],
   "source": [
    "start_times = [datetime.datetime.strptime('06/11/2019 11:05:47.942561', \"%d/%m/%Y %H:%M:%S.%f\"),\n",
    "              datetime.datetime.strptime('06/11/2019 11:05:47.942561', \"%d/%m/%Y %H:%M:%S.%f\"),\n",
    "              datetime.datetime.strptime('06/11/2019 10:27:05.123607', \"%d/%m/%Y %H:%M:%S.%f\"),\n",
    "              datetime.datetime.strptime('06/11/2019 10:27:05.123607', \"%d/%m/%Y %H:%M:%S.%f\"),\n",
    "              datetime.datetime.strptime('06/11/2019 11:29:04.442525', \"%d/%m/%Y %H:%M:%S.%f\"),\n",
    "              datetime.datetime.strptime('06/11/2019 11:29:04.442525', \"%d/%m/%Y %H:%M:%S.%f\"),\n",
    "              datetime.datetime.strptime('06/11/2019 11:27:08.570214', \"%d/%m/%Y %H:%M:%S.%f\"),\n",
    "              datetime.datetime.strptime('06/11/2019 11:27:08.570214', \"%d/%m/%Y %H:%M:%S.%f\"),\n",
    "              datetime.datetime.strptime('06/11/2019 11:14:37.872723', \"%d/%m/%Y %H:%M:%S.%f\"),\n",
    "              datetime.datetime.strptime('06/11/2019 11:14:37.872723', \"%d/%m/%Y %H:%M:%S.%f\"),\n",
    "              datetime.datetime.strptime('06/11/2019 12:43:48.904839', \"%d/%m/%Y %H:%M:%S.%f\"),\n",
    "              datetime.datetime.strptime('06/11/2019 12:43:48.904839', \"%d/%m/%Y %H:%M:%S.%f\"),\n",
    "              datetime.datetime.strptime('06/11/2019 12:57:44.165208', \"%d/%m/%Y %H:%M:%S.%f\"),\n",
    "              datetime.datetime.strptime('06/11/2019 12:57:44.165208', \"%d/%m/%Y %H:%M:%S.%f\")]"
   ]
  },
  {
   "cell_type": "code",
   "execution_count": 6,
   "metadata": {},
   "outputs": [],
   "source": [
    "start_times = pd.Series(start_times)"
   ]
  },
  {
   "cell_type": "code",
   "execution_count": 7,
   "metadata": {},
   "outputs": [],
   "source": [
    "for index, t in start_times.items():\n",
    "    start_times[index] = t + datetime.timedelta(seconds = 15)"
   ]
  },
  {
   "cell_type": "code",
   "execution_count": 1,
   "metadata": {},
   "outputs": [
    {
     "output_type": "error",
     "ename": "NameError",
     "evalue": "name 'files_rr' is not defined",
     "traceback": [
      "\u001b[1;31m---------------------------------------------------------------------------\u001b[0m",
      "\u001b[1;31mNameError\u001b[0m                                 Traceback (most recent call last)",
      "\u001b[1;32m<ipython-input-1-8a52a5c87d0d>\u001b[0m in \u001b[0;36m<module>\u001b[1;34m\u001b[0m\n\u001b[1;32m----> 1\u001b[1;33m \u001b[1;32mfor\u001b[0m \u001b[0mindex\u001b[0m\u001b[1;33m,\u001b[0m \u001b[0mpath\u001b[0m \u001b[1;32min\u001b[0m \u001b[0mfiles_rr\u001b[0m\u001b[1;33m.\u001b[0m\u001b[0mitems\u001b[0m\u001b[1;33m(\u001b[0m\u001b[1;33m)\u001b[0m\u001b[1;33m:\u001b[0m\u001b[1;33m\u001b[0m\u001b[1;33m\u001b[0m\u001b[0m\n\u001b[0m\u001b[0;32m      2\u001b[0m     \u001b[0mfile\u001b[0m \u001b[1;33m=\u001b[0m \u001b[0mpd\u001b[0m\u001b[1;33m.\u001b[0m\u001b[0mread_csv\u001b[0m\u001b[1;33m(\u001b[0m\u001b[0mpath\u001b[0m\u001b[1;33m,\u001b[0m \u001b[0mparse_dates\u001b[0m \u001b[1;33m=\u001b[0m \u001b[1;33m[\u001b[0m\u001b[1;34m'Time'\u001b[0m\u001b[1;33m]\u001b[0m\u001b[1;33m)\u001b[0m\u001b[1;33m\u001b[0m\u001b[1;33m\u001b[0m\u001b[0m\n\u001b[0;32m      3\u001b[0m     \u001b[0mfile\u001b[0m \u001b[1;33m=\u001b[0m \u001b[0mfile\u001b[0m\u001b[1;33m[\u001b[0m\u001b[0mfile\u001b[0m\u001b[1;33m[\u001b[0m\u001b[1;34m'Time'\u001b[0m\u001b[1;33m]\u001b[0m \u001b[1;33m>\u001b[0m \u001b[0mstart_times\u001b[0m\u001b[1;33m[\u001b[0m\u001b[0mindex\u001b[0m\u001b[1;33m]\u001b[0m\u001b[1;33m]\u001b[0m\u001b[1;33m\u001b[0m\u001b[1;33m\u001b[0m\u001b[0m\n\u001b[0;32m      4\u001b[0m     \u001b[0mfile\u001b[0m\u001b[1;33m[\u001b[0m\u001b[1;34m'Time'\u001b[0m\u001b[1;33m]\u001b[0m \u001b[1;33m=\u001b[0m \u001b[0mfile\u001b[0m\u001b[1;33m.\u001b[0m\u001b[0mTime\u001b[0m\u001b[1;33m.\u001b[0m\u001b[0mdt\u001b[0m\u001b[1;33m.\u001b[0m\u001b[0mround\u001b[0m\u001b[1;33m(\u001b[0m\u001b[0mfreq\u001b[0m \u001b[1;33m=\u001b[0m \u001b[1;34m'ms'\u001b[0m\u001b[1;33m)\u001b[0m\u001b[1;33m\u001b[0m\u001b[1;33m\u001b[0m\u001b[0m\n\u001b[0;32m      5\u001b[0m     \u001b[0mprint\u001b[0m\u001b[1;33m(\u001b[0m\u001b[0mfile\u001b[0m\u001b[1;33m.\u001b[0m\u001b[0mTime\u001b[0m\u001b[1;33m.\u001b[0m\u001b[0mdescribe\u001b[0m\u001b[1;33m(\u001b[0m\u001b[1;33m)\u001b[0m\u001b[1;33m[\u001b[0m\u001b[1;34m'first'\u001b[0m\u001b[1;33m]\u001b[0m\u001b[1;33m,\u001b[0m \u001b[0mfile\u001b[0m\u001b[1;33m.\u001b[0m\u001b[0mTime\u001b[0m\u001b[1;33m.\u001b[0m\u001b[0mdescribe\u001b[0m\u001b[1;33m(\u001b[0m\u001b[1;33m)\u001b[0m\u001b[1;33m[\u001b[0m\u001b[1;34m'last'\u001b[0m\u001b[1;33m]\u001b[0m\u001b[1;33m)\u001b[0m\u001b[1;33m\u001b[0m\u001b[1;33m\u001b[0m\u001b[0m\n",
      "\u001b[1;31mNameError\u001b[0m: name 'files_rr' is not defined"
     ]
    }
   ],
   "source": [
    "for index, path in files_rr.items():\n",
    "    file = pd.read_csv(path, parse_dates = ['Time'])\n",
    "    file = file[file['Time'] > start_times[index]]\n",
    "    file['Time'] = file.Time.dt.round(freq = 'ms')\n",
    "    print(file.Time.describe()['first'], file.Time.describe()['last'])\n",
    "    file.sort_values(by = ['Time']).to_csv(path, index = False)"
   ]
  },
  {
   "cell_type": "code",
   "execution_count": 12,
   "metadata": {},
   "outputs": [
    {
     "name": "stdout",
     "output_type": "stream",
     "text": [
      "7/7\r"
     ]
    }
   ],
   "source": [
    "for i in range(7):\n",
    "    print(f'{i+1}/7', end = '\\r')\n",
    "    index = i * 2\n",
    "    df_rr1 = pd.DataFrame(pd.read_csv(files_rr[index], parse_dates = ['Time']))\n",
    "    df_rr2 = pd.DataFrame(pd.read_csv(files_rr[index + 1], parse_dates = ['Time']))\n",
    "    last1 = df_rr1.Time.describe()['last']\n",
    "    last2 = df_rr2.Time.describe()['last']\n",
    "    star1 = df_rr1.Time.describe()['first']\n",
    "    star2 = df_rr2.Time.describe()['first']\n",
    "    lastDate  = min([last1, last2])\n",
    "    firstDate = max([star1, star2])\n",
    "    df_rr1 = df_rr1[df_rr1['Time'] >= firstDate]\n",
    "    df_rr1 = df_rr1[df_rr1['Time'] <= lastDate]\n",
    "    df_rr2 = df_rr2[df_rr2['Time'] >= firstDate]\n",
    "    df_rr2 = df_rr2[df_rr2['Time'] <= lastDate]\n",
    "    df_rr1.to_csv(files_rr[index], index = None)\n",
    "    df_rr2.to_csv(files_rr[index + 1], index = None)"
   ]
  },
  {
   "cell_type": "code",
   "execution_count": 20,
   "metadata": {},
   "outputs": [
    {
     "name": "stdout",
     "output_type": "stream",
     "text": [
      "7/7\r"
     ]
    }
   ],
   "source": [
    "for i in range(7):\n",
    "    print(f'{i+1}/7', end = '\\r')\n",
    "    index = i * 2\n",
    "    \n",
    "    q = pd.read_csv(files_rr[index], parse_dates = ['Time'])\n",
    "    q['Pulse X'] = 1\n",
    "\n",
    "    time_serieX = pd.DataFrame(pd.date_range(start=str(q['Time'][0]), end = str(q['Time'][len(q) - 1]), freq = 'ms'), columns = ['Time'])\n",
    "    time_serieX['Pulse Y'] = 0\n",
    "\n",
    "    time_serieX = time_serieX.merge(q, how = 'outer')\n",
    "    time_serieX['Pulse'] = time_serieX.apply(lambda row : 1 if row['Pulse X'] == 1 else 0, axis = 1)\n",
    "\n",
    "    time_serieX = time_serieX.drop(columns = ['Pulse Y', 'Pulse X', 'RR Interval [ms]'])\n",
    "\n",
    "    p = pd.read_csv(files_rr[index + 1], parse_dates = ['Time'])\n",
    "    p['Pulse X'] = 1\n",
    "\n",
    "    time_serieY = pd.DataFrame(pd.date_range(start=str(p['Time'][0]), end = str(p['Time'][len(p) - 1]), freq = 'ms'), columns = ['Time'])\n",
    "    time_serieY['Pulse Y'] = 0\n",
    "\n",
    "    time_serieY = time_serieY.merge(p, how = 'outer')\n",
    "    time_serieY['Pulse'] = time_serieY.apply(lambda row : 1 if row['Pulse X'] == 1 else 0, axis = 1)\n",
    "\n",
    "    time_serieY = time_serieY.drop(columns = ['Pulse Y', 'Pulse X', 'RR Interval [ms]'])\n",
    "\n",
    "    Z = time_serieX.merge(time_serieY, how = 'outer', left_on = ['Time'], right_on = ['Time'])\n",
    "\n",
    "    Z = Z[Z.Pulse_x.isin([0, 1]) & (Z.Pulse_y.isin([0, 1]))]\n",
    "\n",
    "    Z.Pulse_y = Z.Pulse_y.astype(int)\n",
    "    Z.Pulse_x = Z.Pulse_x.astype(int)\n",
    "\n",
    "    #Z = Z.drop(columns = ['Time'])\n",
    "    Z.to_csv(f'../Time Series/{i}.csv', index = None)"
   ]
  },
  {
   "cell_type": "code",
   "execution_count": null,
   "metadata": {},
   "outputs": [],
   "source": []
  }
 ],
 "metadata": {
  "kernelspec": {
   "display_name": "Python 3",
   "language": "python",
   "name": "python3"
  },
  "language_info": {
   "codemirror_mode": {
    "name": "ipython",
    "version": 3
   },
   "file_extension": ".py",
   "mimetype": "text/x-python",
   "name": "python",
   "nbconvert_exporter": "python",
   "pygments_lexer": "ipython3",
   "version": "3.8.5-final"
  }
 },
 "nbformat": 4,
 "nbformat_minor": 2
}