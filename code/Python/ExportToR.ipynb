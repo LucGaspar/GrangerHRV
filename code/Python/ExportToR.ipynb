{
 "cells": [
  {
   "cell_type": "code",
   "execution_count": 1,
   "metadata": {},
   "outputs": [],
   "source": [
    "import pandas as pd\n",
    "import glob"
   ]
  },
  {
   "cell_type": "code",
   "execution_count": 2,
   "metadata": {},
   "outputs": [],
   "source": [
    "filesPath = glob.glob('../Time Series/Data/1/*.csv')\n",
    "newFilesPathCategory = glob.glob('../Time Series/Data/1/ToR/Category/*.csv')\n",
    "newFilesPathNumeric  = glob.glob('../Time Series/Data/1/ToR/Numeric/*.csv')"
   ]
  },
  {
   "cell_type": "code",
   "execution_count": 3,
   "metadata": {
    "scrolled": true
   },
   "outputs": [],
   "source": [
    "a = pd.read_csv(filesPath[0], parse_dates = ['Time'])\n",
    "a = a.rename(columns = {'Pulse_x' : 'Pulse B', 'Pulse_y' : 'Pulse A'})\n",
    "aN = a[['Pulse A', 'Pulse B', 'PosA', 'PosB']]\n",
    "aN.to_csv(newFilesPathNumeric[0], index = None)\n",
    "\n",
    "a = pd.read_csv(filesPath[1], parse_dates = ['Time'])\n",
    "a = a.rename(columns = {'Pulse_x' : 'Pulse B', 'Pulse_y' : 'Pulse A'})\n",
    "aN = a[['Pulse A', 'Pulse B', 'PosA', 'PosB']]\n",
    "aN.to_csv(newFilesPathNumeric[1], index = None)\n",
    "\n",
    "a = pd.read_csv(filesPath[2], parse_dates = ['Time'])\n",
    "a = a.rename(columns = {'Pulse_x' : 'Pulse D', 'Pulse_y' : 'Pulse C'})\n",
    "aN = a[['Pulse C', 'Pulse D', 'PosC', 'PosD']]\n",
    "aN.to_csv(newFilesPathNumeric[2], index = None)\n",
    "\n",
    "a = pd.read_csv(filesPath[3], parse_dates = ['Time'])\n",
    "a = a.rename(columns = {'Pulse_x' : 'Pulse C', 'Pulse_y' : 'Pulse D'})\n",
    "aN = a[['Pulse C', 'Pulse D', 'PosC', 'PosD']]\n",
    "aN.to_csv(newFilesPathNumeric[3], index = None)\n",
    "\n",
    "a = pd.read_csv(filesPath[4], parse_dates = ['Time'])\n",
    "a = a.rename(columns = {'Pulse_x' : 'Pulse E', 'Pulse_y' : 'Pulse F'})\n",
    "aN = a[['Pulse E', 'Pulse F', 'PosE', 'PosF']]\n",
    "aN.to_csv(newFilesPathNumeric[4], index = None)\n",
    "\n",
    "a = pd.read_csv(filesPath[5], parse_dates = ['Time'])\n",
    "a = a.rename(columns = {'Pulse_x' : 'Pulse E', 'Pulse_y' : 'Pulse F'})\n",
    "aN = a[['Pulse E', 'Pulse F', 'PosE', 'PosF']]\n",
    "aN.to_csv(newFilesPathNumeric[5], index = None)"
   ]
  },
  {
   "cell_type": "code",
   "execution_count": 4,
   "metadata": {},
   "outputs": [],
   "source": [
    "a = pd.read_csv(filesPath[0], parse_dates = ['Time'])\n",
    "a = a.rename(columns = {'Pulse_x' : 'Pulse B', 'Pulse_y' : 'Pulse A'})\n",
    "a = a[['Pulse A', 'Pulse B', 'PosAUpDown', 'PosBUpDown']]\n",
    "for c in a.columns[2:]:\n",
    "    a[c] = a[c].map({'Stop' : 0, 'Up' : 1, 'Down' : -1})\n",
    "    a = a.rename(columns = {c : c[0:4]})\n",
    "a.to_csv(newFilesPathCategory[0], index = None)\n",
    "\n",
    "a = pd.read_csv(filesPath[1], parse_dates = ['Time'])\n",
    "a = a.rename(columns = {'Pulse_x' : 'Pulse B', 'Pulse_y' : 'Pulse A'})\n",
    "a = a[['Pulse A', 'Pulse B', 'PosAUpDown', 'PosBUpDown']]\n",
    "for c in a.columns[2:]:\n",
    "    a[c] = a[c].map({'Stop' : 0, 'Up' : 1, 'Down' : -1})\n",
    "    a = a.rename(columns = {c : c[0:4]})\n",
    "a.to_csv(newFilesPathCategory[1], index = None)\n",
    "\n",
    "a = pd.read_csv(filesPath[2], parse_dates = ['Time'])\n",
    "a = a.rename(columns = {'Pulse_x' : 'Pulse D', 'Pulse_y' : 'Pulse C'})\n",
    "a = a[['Pulse C', 'Pulse D', 'PosCUpDown', 'PosDUpDown']]\n",
    "for c in a.columns[2:]:\n",
    "    a[c] = a[c].map({'Stop' : 0, 'Up' : 1, 'Down' : -1})\n",
    "    a = a.rename(columns = {c : c[0:4]})\n",
    "a.to_csv(newFilesPathCategory[2], index = None)\n",
    "\n",
    "a = pd.read_csv(filesPath[3], parse_dates = ['Time'])\n",
    "a = a.rename(columns = {'Pulse_x' : 'Pulse C', 'Pulse_y' : 'Pulse D'})\n",
    "a = a[['Pulse C', 'Pulse D', 'PosCUpDown', 'PosDUpDown']]\n",
    "for c in a.columns[2:]:\n",
    "    a[c] = a[c].map({'Stop' : 0, 'Up' : 1, 'Down' : -1})\n",
    "    a = a.rename(columns = {c : c[0:4]})\n",
    "a.to_csv(newFilesPathCategory[3], index = None)\n",
    "\n",
    "a = pd.read_csv(filesPath[4], parse_dates = ['Time'])\n",
    "a = a.rename(columns = {'Pulse_x' : 'Pulse E', 'Pulse_y' : 'Pulse F'})\n",
    "a = a[['Pulse E', 'Pulse F', 'PosEUpDown', 'PosFUpDown']]\n",
    "for c in a.columns[2:]:\n",
    "    a[c] = a[c].map({'Stop' : 0, 'Up' : 1, 'Down' : -1})\n",
    "    a = a.rename(columns = {c : c[0:4]})\n",
    "a.to_csv(newFilesPathCategory[4], index = None)\n",
    "\n",
    "a = pd.read_csv(filesPath[5], parse_dates = ['Time'])\n",
    "a = a.rename(columns = {'Pulse_x' : 'Pulse E', 'Pulse_y' : 'Pulse F'})\n",
    "a = a[['Pulse E', 'Pulse F', 'PosEUpDown', 'PosFUpDown']]\n",
    "for c in a.columns[2:]:\n",
    "    a[c] = a[c].map({'Stop' : 0, 'Up' : 1, 'Down' : -1})\n",
    "    a = a.rename(columns = {c : c[0:4]})\n",
    "a.to_csv(newFilesPathCategory[5], index = None)"
   ]
  }
 ],
 "metadata": {
  "kernelspec": {
   "display_name": "Python 3",
   "language": "python",
   "name": "python3"
  },
  "language_info": {
   "codemirror_mode": {
    "name": "ipython",
    "version": 3
   },
   "file_extension": ".py",
   "mimetype": "text/x-python",
   "name": "python",
   "nbconvert_exporter": "python",
   "pygments_lexer": "ipython3",
   "version": "3.8.5"
  }
 },
 "nbformat": 4,
 "nbformat_minor": 2
}
