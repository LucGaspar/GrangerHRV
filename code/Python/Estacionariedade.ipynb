{
 "cells": [
  {
   "cell_type": "code",
   "execution_count": 17,
   "metadata": {},
   "outputs": [],
   "source": [
    "import pandas as pd\n",
    "import glob\n",
    "from statsmodels.tsa.stattools import adfuller"
   ]
  },
  {
   "cell_type": "code",
   "execution_count": 20,
   "metadata": {},
   "outputs": [],
   "source": [
    "paths = glob.glob('../Data/Processed/*.csv')"
   ]
  },
  {
   "cell_type": "code",
   "execution_count": 31,
   "metadata": {},
   "outputs": [
    {
     "name": "stdout",
     "output_type": "stream",
     "text": [
      "RR_A\n",
      "n_lags: 10\n",
      "p-value: 0.00017\n",
      "\n",
      "RR_B\n",
      "n_lags: 10\n",
      "p-value: 0.00667\n",
      "\n",
      "RR_A\n",
      "n_lags: 5\n",
      "p-value: 0.0\n",
      "\n",
      "RR_B\n",
      "n_lags: 7\n",
      "p-value: 0.0\n",
      "\n",
      "RR_C\n",
      "n_lags: 10\n",
      "p-value: 0.00263\n",
      "\n",
      "RR_D\n",
      "n_lags: 7\n",
      "p-value: 0.0\n",
      "\n",
      "RR_C\n",
      "n_lags: 7\n",
      "p-value: 0.00068\n",
      "\n",
      "RR_D\n",
      "n_lags: 9\n",
      "p-value: 0.00226\n",
      "\n",
      "RR_E\n",
      "n_lags: 6\n",
      "p-value: 0.0\n",
      "\n",
      "RR_F\n",
      "n_lags: 10\n",
      "p-value: 0.01556\n",
      "\n",
      "RR_E\n",
      "n_lags: 4\n",
      "p-value: 0.00059\n",
      "\n",
      "RR_F\n",
      "n_lags: 6\n",
      "p-value: 0.00538\n",
      "\n"
     ]
    }
   ],
   "source": [
    "for path in paths:\n",
    "    ts = pd.read_csv(path)\n",
    "    for c in ts.columns[1:3]:\n",
    "        result = adfuller(ts[c], maxlag = 10, autolag = 'AIC')\n",
    "        print(c)\n",
    "        #print(f'ADF Statistic: {result[0]}')\n",
    "        print(f'n_lags: {result[2]}')\n",
    "        print(f'p-value: {result[1].round(5)}\\n')\n",
    "        #for key, value in result[4].items():\n",
    "            #print('Critical Values:')\n",
    "            #print(f'   {key}, {value}')    "
   ]
  }
 ],
 "metadata": {
  "kernelspec": {
   "display_name": "Python 3",
   "language": "python",
   "name": "python3"
  },
  "language_info": {
   "codemirror_mode": {
    "name": "ipython",
    "version": 3
   },
   "file_extension": ".py",
   "mimetype": "text/x-python",
   "name": "python",
   "nbconvert_exporter": "python",
   "pygments_lexer": "ipython3",
   "version": "3.8.5"
  }
 },
 "nbformat": 4,
 "nbformat_minor": 4
}
