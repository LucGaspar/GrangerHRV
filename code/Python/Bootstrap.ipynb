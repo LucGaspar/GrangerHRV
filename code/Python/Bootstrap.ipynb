{
 "cells": [
  {
   "cell_type": "code",
   "execution_count": 1,
   "metadata": {},
   "outputs": [],
   "source": [
    "import pandas as pd\n",
    "import glob\n",
    "from random import randrange"
   ]
  },
  {
   "cell_type": "code",
   "execution_count": 4,
   "metadata": {},
   "outputs": [],
   "source": [
    "def bootstrap(x, y, delta, B):\n",
    "\n",
    "    T = len(x)   \n",
    "    count = 0\n",
    "    \n",
    "    # Passo 0\n",
    "    corr = x.corr(y, method = 'pearson')\n",
    "    \n",
    "    correlations = []\n",
    "    \n",
    "    # Passo 8\n",
    "    for k in range(B):\n",
    "\n",
    "        print(f'{k+1}/{B}', end='\\r')\n",
    "        \n",
    "        x_ = pd.Series()\n",
    "        y_ = pd.Series()\n",
    "\n",
    "        # Passo 3\n",
    "        while len(x_) < T:\n",
    "            # Passo 1\n",
    "            i = randrange(T - delta)\n",
    "\n",
    "            # Passo 2\n",
    "            bloco = x[i : i + delta]\n",
    "            x_ = pd.concat([x_, bloco])\n",
    "\n",
    "        # Passo 6\n",
    "        while len(y_) < T:\n",
    "            # Passo 4\n",
    "            j = randrange(T - delta)\n",
    "\n",
    "            # Passo 5\n",
    "            bloco = y[j : j + delta]\n",
    "            y_ = pd.concat([y_, bloco])\n",
    "\n",
    "        # Passo 7\n",
    "        corr_ = x_.corr(y_, method = 'pearson')\n",
    "\n",
    "        correlations = correlations + [corr_]\n",
    "    \n",
    "    return [corr, correlations]"
   ]
  },
  {
   "cell_type": "code",
   "execution_count": 17,
   "metadata": {},
   "outputs": [],
   "source": [
    "ts = pd.read_csv('../Data/Processed/6.csv')"
   ]
  },
  {
   "cell_type": "code",
   "execution_count": 18,
   "metadata": {},
   "outputs": [
    {
     "name": "stdout",
     "output_type": "stream",
     "text": [
      "1/1000\r",
      "2/1000\r",
      "3/1000\r",
      "4/1000\r",
      "5/1000\r",
      "6/1000\r",
      "7/1000\r",
      "8/1000\r",
      "9/1000\r",
      "10/1000\r",
      "11/1000\r",
      "12/1000\r",
      "13/1000\r",
      "14/1000\r",
      "15/1000\r",
      "16/1000\r",
      "17/1000\r",
      "18/1000\r"
     ]
    },
    {
     "name": "stderr",
     "output_type": "stream",
     "text": [
      "<ipython-input-4-5156c58d1343>:16: DeprecationWarning: The default dtype for empty Series will be 'object' instead of 'float64' in a future version. Specify a dtype explicitly to silence this warning.\n",
      "  x_ = pd.Series()\n",
      "<ipython-input-4-5156c58d1343>:17: DeprecationWarning: The default dtype for empty Series will be 'object' instead of 'float64' in a future version. Specify a dtype explicitly to silence this warning.\n",
      "  y_ = pd.Series()\n"
     ]
    },
    {
     "name": "stdout",
     "output_type": "stream",
     "text": [
      "1000/1000\r"
     ]
    }
   ],
   "source": [
    "boot = bootstrap(ts.RR_E, ts.RR_F, 10, 1000)"
   ]
  },
  {
   "cell_type": "code",
   "execution_count": 19,
   "metadata": {},
   "outputs": [
    {
     "data": {
      "text/plain": [
       "<AxesSubplot:>"
      ]
     },
     "execution_count": 19,
     "metadata": {},
     "output_type": "execute_result"
    },
    {
     "data": {
      "image/png": "[encoded data removed]",
      "text/plain": [
       "<Figure size 432x288 with 1 Axes>"
      ]
     },
     "metadata": {
      "needs_background": "light"
     },
     "output_type": "display_data"
    }
   ],
   "source": [
    "pd.Series(boot[1]).hist()"
   ]
  },
  {
   "cell_type": "code",
   "execution_count": null,
   "metadata": {},
   "outputs": [],
   "source": []
  }
 ],
 "metadata": {
  "kernelspec": {
   "display_name": "Python 3",
   "language": "python",
   "name": "python3"
  },
  "language_info": {
   "codemirror_mode": {
    "name": "ipython",
    "version": 3
   },
   "file_extension": ".py",
   "mimetype": "text/x-python",
   "name": "python",
   "nbconvert_exporter": "python",
   "pygments_lexer": "ipython3",
   "version": "3.8.5"
  }
 },
 "nbformat": 4,
 "nbformat_minor": 2
}
